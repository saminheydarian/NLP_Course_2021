{
 "cells": [
  {
   "cell_type": "code",
   "execution_count": 2,
   "metadata": {},
   "outputs": [],
   "source": [
    "import re"
   ]
  },
  {
   "cell_type": "markdown",
   "metadata": {},
   "source": [
    "# A)"
   ]
  },
  {
   "cell_type": "code",
   "execution_count": 9,
   "metadata": {},
   "outputs": [],
   "source": [
    "def email_validation(string):\n",
    "    pattern  = '^[A-z0-9_\\.]+@[A-z0-9]+\\.([A-z]){3}$'\n",
    "\n",
    "#     output = re.fullmatch(pattern, string)\n",
    "    output = re.match(pattern, string)\n",
    "\n",
    "    if output:\n",
    "        return True\n",
    "    else:\n",
    "        return False"
   ]
  },
  {
   "cell_type": "code",
   "execution_count": 17,
   "metadata": {},
   "outputs": [
    {
     "name": "stdout",
     "output_type": "stream",
     "text": [
      "True\n",
      "False\n",
      "False\n",
      "False\n"
     ]
    }
   ],
   "source": [
    "string_1 = 'samin.heydarian97@gmail.com'\n",
    "string_2 = 'samin.heydarian97@gmail.comx'\n",
    "string_3 = 'samin.heydarian97gm_il.com'\n",
    "string_4 = 'samin.heydarian97@gmail.co9'\n",
    "\n",
    "output = email_validation(string_1)\n",
    "print(output)\n",
    "\n",
    "output = email_validation(string_2)\n",
    "print(output)\n",
    "\n",
    "output = email_validation(string_3)\n",
    "print(output)\n",
    "\n",
    "output = email_validation(string_4)\n",
    "print(output)"
   ]
  },
  {
   "cell_type": "code",
   "execution_count": 13,
   "metadata": {},
   "outputs": [],
   "source": [
    "def phoneNumber_validation(string):\n",
    "    pattern  = '^(09|\\+989|00989)([0-9]){9}$'\n",
    "\n",
    "    output = re.match(pattern, string)\n",
    "\n",
    "    if output:\n",
    "        return True\n",
    "    else:\n",
    "        return False"
   ]
  },
  {
   "cell_type": "code",
   "execution_count": 19,
   "metadata": {},
   "outputs": [
    {
     "name": "stdout",
     "output_type": "stream",
     "text": [
      "True\n",
      "False\n",
      "False\n",
      "False\n"
     ]
    }
   ],
   "source": [
    "string_1 = '09223244139'\n",
    "string_2 = '++989223244139'\n",
    "string_3 = 's9223244139'\n",
    "string_4 = '00089223244139'\n",
    "\n",
    "output = phoneNumber_validation(string_1)\n",
    "print(output)\n",
    "\n",
    "output = phoneNumber_validation(string_2)\n",
    "print(output)\n",
    "\n",
    "output = phoneNumber_validation(string_3)\n",
    "print(output)\n",
    "\n",
    "output = phoneNumber_validation(string_4)\n",
    "print(output)"
   ]
  },
  {
   "cell_type": "markdown",
   "metadata": {},
   "source": [
    "# B)"
   ]
  },
  {
   "cell_type": "markdown",
   "metadata": {},
   "source": [
    "## part 1"
   ]
  },
  {
   "cell_type": "code",
   "execution_count": null,
   "metadata": {},
   "outputs": [],
   "source": []
  },
  {
   "cell_type": "code",
   "execution_count": 20,
   "metadata": {},
   "outputs": [],
   "source": [
    "suffix = ['ها',\n",
    "          '\\u200cها',\n",
    "          'ان',\n",
    "          'ات',\n",
    "          'م',\n",
    "          '',\n",
    "          'ه\\u200cاند',\n",
    "          'ه بودند',\n",
    "          'ید',\n",
    "          'ند']\n",
    "\n",
    "prefix = ['می\\u200c']\n",
    "\n",
    "exception = ['بوستان']\n",
    "\n",
    "word_dictionary = ['آنها',\n",
    "                  'کتاب\\u200cها',\n",
    "                  'بوستان',\n",
    "                  'درختان',\n",
    "                  'فردا',\n",
    "                  'اتصالات',\n",
    "                  'می\\u200cروم',\n",
    "                  'رفته\\u200cاند',\n",
    "                  'گفته بودند',\n",
    "                  'می\\u200cگویید',\n",
    "                  'می\\u200cخورم',\n",
    "                  'خوردند',\n",
    "                  'نوشتید']\n",
    "root = {'خورد':'خور',\n",
    "       'خور':'خور',\n",
    "       'رفت':'رو',\n",
    "       'رو':'رو',\n",
    "       'گفت':'گو',\n",
    "       'گو':'گو',\n",
    "       'نوشت':'نویس'}\n",
    "\n",
    "def lemmatization(string):\n",
    "    \n",
    "    \n",
    "    return"
   ]
  }
 ],
 "metadata": {
  "kernelspec": {
   "display_name": "Python 3",
   "language": "python",
   "name": "python3"
  },
  "language_info": {
   "codemirror_mode": {
    "name": "ipython",
    "version": 3
   },
   "file_extension": ".py",
   "mimetype": "text/x-python",
   "name": "python",
   "nbconvert_exporter": "python",
   "pygments_lexer": "ipython3",
   "version": "3.7.9"
  }
 },
 "nbformat": 4,
 "nbformat_minor": 4
}
